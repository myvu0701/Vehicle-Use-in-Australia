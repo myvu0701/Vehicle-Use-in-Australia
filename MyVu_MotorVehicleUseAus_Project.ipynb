{
 "cells": [
  {
   "cell_type": "markdown",
   "metadata": {},
   "source": [
    "<br /><h1 style=\"font-family:Impact,Arial;font-size:70px;\">Motor Vehicle Use in Australia</h1>\n",
    "<h2 style=\"font-family:Arial;\">My Vu</h2>\n",
    "<h2 style=\"font-family:Arial;\">12862177</h2>\n",
    "<p><small> Programming for Data Analysis</small></p>\n",
    "<p><small><font color=MediumVioletRed>Summer 2020</font></small>\n",
    "</p>\n",
    "<hr style=\"height:5px;border:none;color:#333;background-color:#333;\" />"
   ]
  },
  {
   "cell_type": "markdown",
   "metadata": {},
   "source": [
    "# Abstract\n",
    "\n",
    "\n",
    "This project will compared Motor Vehicle between different states use in Australia.\n",
    "\n",
    "The critical point of this report is to analyses average kilometers accross states and the national fuel consumtion by different types of vehicles.\n",
    "\n",
    "Through the analyses, we are able to manage the right amount of fuel into the future in order to balance between the supply and demand. \n",
    "\n",
    "Therefore, we are able to eliminate fuel handling cost, and control the amount of pre-purchased fuel."
   ]
  },
  {
   "cell_type": "markdown",
   "metadata": {},
   "source": [
    "<hr style=\"height:5px;border:none;color:#333;background-color:#333;\" />\n",
    "<h1>1. Motivation</h1>\n",
    "\n",
    "Since I was a kid, I was always wonder how the gas staion never run out of gas while there are so many motor vehicles running accross suburbs, city, states all the time. I was keep asking my mom how far would these vehicles going for and how much fuel that it comsumed every trip. And how does the gas station know how much fuel to prepare in advance. \n",
    "\n",
    "Hence, I think it would be very interesting to know how many kilometers travelled of all the motor vehicles and the amount of fuel consumption needed so we able to control the demand and supply of it into the future.\n"
   ]
  },
  {
   "cell_type": "markdown",
   "metadata": {},
   "source": [
    "<hr style=\"height:5px;border:none;color:#333;background-color:#333;\" />\n",
    "<h1>2. The data</h1>\n",
    "\n",
    "\n",
    "The datasets for this project is taken from Australian Bureau of Statistics. \n",
    "There are 31 datasets that contained in an excel file. \n",
    "\n",
    "The link of the datasets is attached below:\n",
    "(https://www.abs.gov.au/AUSSTATS/abs@.nsf/Lookup/9208.0Main+Features112%20months%20ended%2030%20June%202018?OpenDocument)\n",
    "\n"
   ]
  },
  {
   "cell_type": "markdown",
   "metadata": {},
   "source": [
    "<hr style=\"height:5px;border:none;color:#333;background-color:#333;\" />\n",
    "<h1>3. Data preparation</h1>\n",
    "\n",
    "31 datasets has been separeted in different sheets in an excel file.\n",
    "\n",
    "Upon opening this dataset, I have noticed that the data was not well-labled by rows and columes. Therefore, I have done some data cleaning in excel in order perform analysis properly. However, the contents and the information of the datasets are remain the same. I have attached the cleaned datasets beside this report. \n",
    "\n",
    "\n",
    "\n"
   ]
  },
  {
   "cell_type": "markdown",
   "metadata": {},
   "source": [
    "Import all the relation packages"
   ]
  },
  {
   "cell_type": "code",
   "execution_count": 1,
   "metadata": {},
   "outputs": [],
   "source": [
    "from math import *\n",
    "import numpy as np\n",
    "import pandas as pd\n",
    "from pathlib import Path\n",
    "\n",
    "\n",
    "%matplotlib inline\n",
    "import matplotlib.pyplot as plt\n",
    "from sklearn import preprocessing\n",
    "\n",
    "\n",
    "import scipy.interpolate\n",
    "import matplotlib"
   ]
  },
  {
   "cell_type": "markdown",
   "metadata": {},
   "source": [
    "Import dataset"
   ]
  },
  {
   "cell_type": "code",
   "execution_count": 2,
   "metadata": {},
   "outputs": [],
   "source": [
    "input_path = Path('../documents/table_1.csv')\n",
    "input_path2 = Path('../documents/table_2.csv')\n",
    "input_path3 = Path('../documents/table_3.csv')\n",
    "input_path4 = Path('../documents/table_4.csv')"
   ]
  },
  {
   "cell_type": "markdown",
   "metadata": {},
   "source": [
    "Check if the dataset is properly lable"
   ]
  },
  {
   "cell_type": "code",
   "execution_count": 3,
   "metadata": {},
   "outputs": [
    {
     "data": {
      "text/html": [
       "<div>\n",
       "<style scoped>\n",
       "    .dataframe tbody tr th:only-of-type {\n",
       "        vertical-align: middle;\n",
       "    }\n",
       "\n",
       "    .dataframe tbody tr th {\n",
       "        vertical-align: top;\n",
       "    }\n",
       "\n",
       "    .dataframe thead th {\n",
       "        text-align: right;\n",
       "    }\n",
       "</style>\n",
       "<table border=\"1\" class=\"dataframe\">\n",
       "  <thead>\n",
       "    <tr style=\"text-align: right;\">\n",
       "      <th></th>\n",
       "      <th>Vehicle_type</th>\n",
       "      <th>Year</th>\n",
       "      <th>Total laden business kilometres travelled</th>\n",
       "      <th>Total laden business kilometres travelled - RSE</th>\n",
       "      <th>Average laden business kilometres travelled</th>\n",
       "      <th>Average laden business kilometres travelled - RSE</th>\n",
       "      <th>Total tonne-kilometres travelled</th>\n",
       "      <th>Total tonne-kilometres travelled - RSE</th>\n",
       "      <th>Average tonne-kilometres travelled</th>\n",
       "      <th>Average tonne-kilometres travelled - RSE</th>\n",
       "      <th>Total tonnes carried</th>\n",
       "      <th>Total tonnes carried - RSE</th>\n",
       "      <th>Average load carried per trip</th>\n",
       "      <th>Average load carried per trip - RSE</th>\n",
       "    </tr>\n",
       "  </thead>\n",
       "  <tbody>\n",
       "    <tr>\n",
       "      <th>0</th>\n",
       "      <td>Light commercial vehicles</td>\n",
       "      <td>2010</td>\n",
       "      <td>17035.0</td>\n",
       "      <td>6.05</td>\n",
       "      <td>13.1</td>\n",
       "      <td>5.30</td>\n",
       "      <td>7,233</td>\n",
       "      <td>8.38</td>\n",
       "      <td>5.6</td>\n",
       "      <td>7.84</td>\n",
       "      <td>161</td>\n",
       "      <td>8.80</td>\n",
       "      <td>406</td>\n",
       "      <td>5.92</td>\n",
       "    </tr>\n",
       "    <tr>\n",
       "      <th>1</th>\n",
       "      <td>Light commercial vehicles</td>\n",
       "      <td>2012</td>\n",
       "      <td>18496.0</td>\n",
       "      <td>6.53</td>\n",
       "      <td>13.8</td>\n",
       "      <td>5.56</td>\n",
       "      <td>7,738</td>\n",
       "      <td>8.99</td>\n",
       "      <td>5.8</td>\n",
       "      <td>8.49</td>\n",
       "      <td>167</td>\n",
       "      <td>7.31</td>\n",
       "      <td>381</td>\n",
       "      <td>5.10</td>\n",
       "    </tr>\n",
       "    <tr>\n",
       "      <th>2</th>\n",
       "      <td>Light commercial vehicles</td>\n",
       "      <td>2014</td>\n",
       "      <td>18577.0</td>\n",
       "      <td>5.55</td>\n",
       "      <td>12.0</td>\n",
       "      <td>4.77</td>\n",
       "      <td>7,676</td>\n",
       "      <td>8.12</td>\n",
       "      <td>4.9</td>\n",
       "      <td>7.32</td>\n",
       "      <td>145</td>\n",
       "      <td>6.32</td>\n",
       "      <td>353</td>\n",
       "      <td>4.43</td>\n",
       "    </tr>\n",
       "    <tr>\n",
       "      <th>3</th>\n",
       "      <td>Light commercial vehicles</td>\n",
       "      <td>2016</td>\n",
       "      <td>22358.0</td>\n",
       "      <td>5.86</td>\n",
       "      <td>14.7</td>\n",
       "      <td>5.01</td>\n",
       "      <td>8,291</td>\n",
       "      <td>8.62</td>\n",
       "      <td>5.5</td>\n",
       "      <td>7.86</td>\n",
       "      <td>145</td>\n",
       "      <td>7.55</td>\n",
       "      <td>335</td>\n",
       "      <td>6.37</td>\n",
       "    </tr>\n",
       "    <tr>\n",
       "      <th>4</th>\n",
       "      <td>Light commercial vehicles</td>\n",
       "      <td>2018</td>\n",
       "      <td>21068.0</td>\n",
       "      <td>6.07</td>\n",
       "      <td>13.6</td>\n",
       "      <td>4.99</td>\n",
       "      <td>9,544</td>\n",
       "      <td>7.51</td>\n",
       "      <td>6.2</td>\n",
       "      <td>6.94</td>\n",
       "      <td>164</td>\n",
       "      <td>7.41</td>\n",
       "      <td>417</td>\n",
       "      <td>5.63</td>\n",
       "    </tr>\n",
       "  </tbody>\n",
       "</table>\n",
       "</div>"
      ],
      "text/plain": [
       "                Vehicle_type  Year  Total laden business kilometres travelled  \\\n",
       "0  Light commercial vehicles  2010                                    17035.0   \n",
       "1  Light commercial vehicles  2012                                    18496.0   \n",
       "2  Light commercial vehicles  2014                                    18577.0   \n",
       "3  Light commercial vehicles  2016                                    22358.0   \n",
       "4  Light commercial vehicles  2018                                    21068.0   \n",
       "\n",
       "   Total laden business kilometres travelled - RSE  \\\n",
       "0                                             6.05   \n",
       "1                                             6.53   \n",
       "2                                             5.55   \n",
       "3                                             5.86   \n",
       "4                                             6.07   \n",
       "\n",
       "   Average laden business kilometres travelled  \\\n",
       "0                                         13.1   \n",
       "1                                         13.8   \n",
       "2                                         12.0   \n",
       "3                                         14.7   \n",
       "4                                         13.6   \n",
       "\n",
       "   Average laden business kilometres travelled - RSE  \\\n",
       "0                                               5.30   \n",
       "1                                               5.56   \n",
       "2                                               4.77   \n",
       "3                                               5.01   \n",
       "4                                               4.99   \n",
       "\n",
       "  Total tonne-kilometres travelled  Total tonne-kilometres travelled - RSE  \\\n",
       "0                            7,233                                    8.38   \n",
       "1                            7,738                                    8.99   \n",
       "2                            7,676                                    8.12   \n",
       "3                            8,291                                    8.62   \n",
       "4                            9,544                                    7.51   \n",
       "\n",
       "  Average tonne-kilometres travelled  \\\n",
       "0                                5.6   \n",
       "1                                5.8   \n",
       "2                                4.9   \n",
       "3                                5.5   \n",
       "4                                6.2   \n",
       "\n",
       "   Average tonne-kilometres travelled - RSE Total tonnes carried  \\\n",
       "0                                      7.84                  161   \n",
       "1                                      8.49                  167   \n",
       "2                                      7.32                  145   \n",
       "3                                      7.86                  145   \n",
       "4                                      6.94                  164   \n",
       "\n",
       "   Total tonnes carried - RSE Average load carried per trip  \\\n",
       "0                        8.80                           406   \n",
       "1                        7.31                           381   \n",
       "2                        6.32                           353   \n",
       "3                        7.55                           335   \n",
       "4                        7.41                           417   \n",
       "\n",
       "   Average load carried per trip - RSE  \n",
       "0                                 5.92  \n",
       "1                                 5.10  \n",
       "2                                 4.43  \n",
       "3                                 6.37  \n",
       "4                                 5.63  "
      ]
     },
     "execution_count": 3,
     "metadata": {},
     "output_type": "execute_result"
    }
   ],
   "source": [
    "df = pd.read_csv(input_path)\n",
    "df.head()"
   ]
  },
  {
   "cell_type": "markdown",
   "metadata": {},
   "source": [
    "Check all the types of the attributes"
   ]
  },
  {
   "cell_type": "code",
   "execution_count": 4,
   "metadata": {},
   "outputs": [
    {
     "data": {
      "text/plain": [
       "Vehicle_type                                          object\n",
       "Year                                                   int64\n",
       "Total laden business kilometres travelled            float64\n",
       "Total laden business kilometres travelled - RSE      float64\n",
       "Average laden business kilometres travelled          float64\n",
       "Average laden business kilometres travelled - RSE    float64\n",
       "Total tonne-kilometres travelled                      object\n",
       "Total tonne-kilometres travelled - RSE               float64\n",
       "Average tonne-kilometres travelled                    object\n",
       "Average tonne-kilometres travelled - RSE             float64\n",
       "Total tonnes carried                                  object\n",
       "Total tonnes carried - RSE                           float64\n",
       "Average load carried per trip                         object\n",
       "Average load carried per trip - RSE                  float64\n",
       "dtype: object"
      ]
     },
     "execution_count": 4,
     "metadata": {},
     "output_type": "execute_result"
    }
   ],
   "source": [
    "df.dtypes"
   ]
  },
  {
   "cell_type": "markdown",
   "metadata": {},
   "source": [
    "Bar chart distribution of the kilometers travelled of freight use through years"
   ]
  },
  {
   "cell_type": "code",
   "execution_count": 5,
   "metadata": {},
   "outputs": [
    {
     "data": {
      "image/png": "[encoded data removed]",
      "text/plain": [
       "<Figure size 936x360 with 1 Axes>"
      ]
     },
     "metadata": {
      "needs_background": "light"
     },
     "output_type": "display_data"
    }
   ],
   "source": [
    "dist = df[df['Vehicle_type']!='Total freight vehicles'].groupby(['Year','Vehicle_type'])['Total laden business kilometres travelled'].sum().unstack()\n",
    "g1 = dist.plot(kind='bar',figsize = (13,5), \n",
    "               title = \"Distribution of kilometres travelled of freight use through years\").set_ylabel(\"Total kilometres travelled (million)\")"
   ]
  },
  {
   "cell_type": "markdown",
   "metadata": {},
   "source": [
    "Total kilometres travelled (million) of freight use through years."
   ]
  },
  {
   "cell_type": "code",
   "execution_count": 6,
   "metadata": {},
   "outputs": [
    {
     "data": {
      "text/html": [
       "<div>\n",
       "<style scoped>\n",
       "    .dataframe tbody tr th:only-of-type {\n",
       "        vertical-align: middle;\n",
       "    }\n",
       "\n",
       "    .dataframe tbody tr th {\n",
       "        vertical-align: top;\n",
       "    }\n",
       "\n",
       "    .dataframe thead th {\n",
       "        text-align: right;\n",
       "    }\n",
       "</style>\n",
       "<table border=\"1\" class=\"dataframe\">\n",
       "  <thead>\n",
       "    <tr style=\"text-align: right;\">\n",
       "      <th>Vehicle_type</th>\n",
       "      <th>Total freight vehicles</th>\n",
       "    </tr>\n",
       "    <tr>\n",
       "      <th>Year</th>\n",
       "      <th></th>\n",
       "    </tr>\n",
       "  </thead>\n",
       "  <tbody>\n",
       "    <tr>\n",
       "      <th>2010</th>\n",
       "      <td>28114.0</td>\n",
       "    </tr>\n",
       "    <tr>\n",
       "      <th>2012</th>\n",
       "      <td>30130.0</td>\n",
       "    </tr>\n",
       "    <tr>\n",
       "      <th>2014</th>\n",
       "      <td>30809.0</td>\n",
       "    </tr>\n",
       "    <tr>\n",
       "      <th>2016</th>\n",
       "      <td>34942.0</td>\n",
       "    </tr>\n",
       "    <tr>\n",
       "      <th>2018</th>\n",
       "      <td>33567.0</td>\n",
       "    </tr>\n",
       "  </tbody>\n",
       "</table>\n",
       "</div>"
      ],
      "text/plain": [
       "Vehicle_type  Total freight vehicles\n",
       "Year                                \n",
       "2010                         28114.0\n",
       "2012                         30130.0\n",
       "2014                         30809.0\n",
       "2016                         34942.0\n",
       "2018                         33567.0"
      ]
     },
     "execution_count": 6,
     "metadata": {},
     "output_type": "execute_result"
    }
   ],
   "source": [
    "df[df['Vehicle_type']=='Total freight vehicles'].groupby(['Year','Vehicle_type'])['Total laden business kilometres travelled'].sum().unstack()"
   ]
  },
  {
   "cell_type": "markdown",
   "metadata": {},
   "source": [
    "Check if the dataset is properly lable"
   ]
  },
  {
   "cell_type": "code",
   "execution_count": 7,
   "metadata": {},
   "outputs": [
    {
     "data": {
      "text/html": [
       "<div>\n",
       "<style scoped>\n",
       "    .dataframe tbody tr th:only-of-type {\n",
       "        vertical-align: middle;\n",
       "    }\n",
       "\n",
       "    .dataframe tbody tr th {\n",
       "        vertical-align: top;\n",
       "    }\n",
       "\n",
       "    .dataframe thead th {\n",
       "        text-align: right;\n",
       "    }\n",
       "</style>\n",
       "<table border=\"1\" class=\"dataframe\">\n",
       "  <thead>\n",
       "    <tr style=\"text-align: right;\">\n",
       "      <th></th>\n",
       "      <th>Vehicle_type</th>\n",
       "      <th>Year</th>\n",
       "      <th>Total kilometres travelled</th>\n",
       "      <th>Total kilometres travelled - RSE</th>\n",
       "      <th>Number of vehicles</th>\n",
       "      <th>Number of vehicles - RSE</th>\n",
       "      <th>Average kilometres travelled</th>\n",
       "      <th>Average kilometres travelled - RSE</th>\n",
       "      <th>Fuel consumed</th>\n",
       "      <th>Fuel consumed - RSE</th>\n",
       "      <th>Rate of fuel consumption</th>\n",
       "      <th>Rate of fuel consumption - RSE</th>\n",
       "    </tr>\n",
       "  </thead>\n",
       "  <tbody>\n",
       "    <tr>\n",
       "      <th>0</th>\n",
       "      <td>Passenger vehicles</td>\n",
       "      <td>2010</td>\n",
       "      <td>163360</td>\n",
       "      <td>2.66</td>\n",
       "      <td>12,341,262</td>\n",
       "      <td>0.71</td>\n",
       "      <td>13.2</td>\n",
       "      <td>2.60</td>\n",
       "      <td>18431</td>\n",
       "      <td>3.20</td>\n",
       "      <td>11.3</td>\n",
       "      <td>1.55</td>\n",
       "    </tr>\n",
       "    <tr>\n",
       "      <th>1</th>\n",
       "      <td>Passenger vehicles</td>\n",
       "      <td>2012</td>\n",
       "      <td>167456</td>\n",
       "      <td>3.03</td>\n",
       "      <td>12,684,308</td>\n",
       "      <td>0.70</td>\n",
       "      <td>13.2</td>\n",
       "      <td>2.60</td>\n",
       "      <td>18510</td>\n",
       "      <td>3.42</td>\n",
       "      <td>11.1</td>\n",
       "      <td>1.30</td>\n",
       "    </tr>\n",
       "    <tr>\n",
       "      <th>2</th>\n",
       "      <td>Passenger vehicles</td>\n",
       "      <td>2014</td>\n",
       "      <td>176805</td>\n",
       "      <td>3.15</td>\n",
       "      <td>13,421,357</td>\n",
       "      <td>0.84</td>\n",
       "      <td>13.2</td>\n",
       "      <td>3.14</td>\n",
       "      <td>18893</td>\n",
       "      <td>3.63</td>\n",
       "      <td>10.7</td>\n",
       "      <td>1.12</td>\n",
       "    </tr>\n",
       "    <tr>\n",
       "      <th>3</th>\n",
       "      <td>Passenger vehicles</td>\n",
       "      <td>2016</td>\n",
       "      <td>175899</td>\n",
       "      <td>2.74</td>\n",
       "      <td>13,712,810</td>\n",
       "      <td>0.70</td>\n",
       "      <td>12.8</td>\n",
       "      <td>2.64</td>\n",
       "      <td>18606</td>\n",
       "      <td>2.95</td>\n",
       "      <td>10.6</td>\n",
       "      <td>1.10</td>\n",
       "    </tr>\n",
       "    <tr>\n",
       "      <th>4</th>\n",
       "      <td>Passenger vehicles</td>\n",
       "      <td>2018</td>\n",
       "      <td>179761</td>\n",
       "      <td>2.44</td>\n",
       "      <td>14,258,620</td>\n",
       "      <td>0.72</td>\n",
       "      <td>12.6</td>\n",
       "      <td>2.40</td>\n",
       "      <td>19486</td>\n",
       "      <td>2.49</td>\n",
       "      <td>10.8</td>\n",
       "      <td>1.21</td>\n",
       "    </tr>\n",
       "  </tbody>\n",
       "</table>\n",
       "</div>"
      ],
      "text/plain": [
       "         Vehicle_type  Year  Total kilometres travelled  \\\n",
       "0  Passenger vehicles  2010                      163360   \n",
       "1  Passenger vehicles  2012                      167456   \n",
       "2  Passenger vehicles  2014                      176805   \n",
       "3  Passenger vehicles  2016                      175899   \n",
       "4  Passenger vehicles  2018                      179761   \n",
       "\n",
       "   Total kilometres travelled - RSE Number of vehicles  \\\n",
       "0                              2.66         12,341,262   \n",
       "1                              3.03         12,684,308   \n",
       "2                              3.15         13,421,357   \n",
       "3                              2.74         13,712,810   \n",
       "4                              2.44         14,258,620   \n",
       "\n",
       "   Number of vehicles - RSE  Average kilometres travelled  \\\n",
       "0                      0.71                          13.2   \n",
       "1                      0.70                          13.2   \n",
       "2                      0.84                          13.2   \n",
       "3                      0.70                          12.8   \n",
       "4                      0.72                          12.6   \n",
       "\n",
       "   Average kilometres travelled - RSE  Fuel consumed  Fuel consumed - RSE  \\\n",
       "0                                2.60          18431                 3.20   \n",
       "1                                2.60          18510                 3.42   \n",
       "2                                3.14          18893                 3.63   \n",
       "3                                2.64          18606                 2.95   \n",
       "4                                2.40          19486                 2.49   \n",
       "\n",
       "   Rate of fuel consumption  Rate of fuel consumption - RSE  \n",
       "0                      11.3                            1.55  \n",
       "1                      11.1                            1.30  \n",
       "2                      10.7                            1.12  \n",
       "3                      10.6                            1.10  \n",
       "4                      10.8                            1.21  "
      ]
     },
     "execution_count": 7,
     "metadata": {},
     "output_type": "execute_result"
    }
   ],
   "source": [
    "df2 = pd.read_csv(input_path2)\n",
    "df2.head()"
   ]
  },
  {
   "cell_type": "code",
   "execution_count": 8,
   "metadata": {},
   "outputs": [
    {
     "data": {
      "text/plain": [
       "Vehicle_type                           object\n",
       "Year                                    int64\n",
       "Total kilometres travelled              int64\n",
       "Total kilometres travelled - RSE      float64\n",
       "Number of vehicles                     object\n",
       "Number of vehicles - RSE              float64\n",
       "Average kilometres travelled          float64\n",
       "Average kilometres travelled - RSE    float64\n",
       "Fuel consumed                           int64\n",
       "Fuel consumed - RSE                   float64\n",
       "Rate of fuel consumption              float64\n",
       "Rate of fuel consumption - RSE        float64\n",
       "dtype: object"
      ]
     },
     "execution_count": 8,
     "metadata": {},
     "output_type": "execute_result"
    }
   ],
   "source": [
    "df2.dtypes"
   ]
  },
  {
   "cell_type": "code",
   "execution_count": 9,
   "metadata": {},
   "outputs": [
    {
     "data": {
      "image/png": "[encoded data removed]",
      "text/plain": [
       "<Figure size 1440x720 with 1 Axes>"
      ]
     },
     "metadata": {
      "needs_background": "light"
     },
     "output_type": "display_data"
    }
   ],
   "source": [
    "dist2 = df2[df2['Vehicle_type']!='Total'].groupby(['Year','Vehicle_type'])['Total kilometres travelled'].sum().unstack()\n",
    "g2 = dist2.plot(kind='bar',figsize = (20,10), \n",
    "               title = \"Distribution of kilometres travelled of motor vehicles through years\").set_ylabel(\"Total kilometres travelled (million)\")"
   ]
  },
  {
   "cell_type": "code",
   "execution_count": 10,
   "metadata": {},
   "outputs": [
    {
     "data": {
      "text/html": [
       "<div>\n",
       "<style scoped>\n",
       "    .dataframe tbody tr th:only-of-type {\n",
       "        vertical-align: middle;\n",
       "    }\n",
       "\n",
       "    .dataframe tbody tr th {\n",
       "        vertical-align: top;\n",
       "    }\n",
       "\n",
       "    .dataframe thead th {\n",
       "        text-align: right;\n",
       "    }\n",
       "</style>\n",
       "<table border=\"1\" class=\"dataframe\">\n",
       "  <thead>\n",
       "    <tr style=\"text-align: right;\">\n",
       "      <th>Vehicle_type</th>\n",
       "      <th>Passenger vehicles</th>\n",
       "    </tr>\n",
       "    <tr>\n",
       "      <th>Year</th>\n",
       "      <th></th>\n",
       "    </tr>\n",
       "  </thead>\n",
       "  <tbody>\n",
       "    <tr>\n",
       "      <th>2010</th>\n",
       "      <td>163360</td>\n",
       "    </tr>\n",
       "    <tr>\n",
       "      <th>2012</th>\n",
       "      <td>167456</td>\n",
       "    </tr>\n",
       "    <tr>\n",
       "      <th>2014</th>\n",
       "      <td>176805</td>\n",
       "    </tr>\n",
       "    <tr>\n",
       "      <th>2016</th>\n",
       "      <td>175899</td>\n",
       "    </tr>\n",
       "    <tr>\n",
       "      <th>2018</th>\n",
       "      <td>179761</td>\n",
       "    </tr>\n",
       "  </tbody>\n",
       "</table>\n",
       "</div>"
      ],
      "text/plain": [
       "Vehicle_type  Passenger vehicles\n",
       "Year                            \n",
       "2010                      163360\n",
       "2012                      167456\n",
       "2014                      176805\n",
       "2016                      175899\n",
       "2018                      179761"
      ]
     },
     "execution_count": 10,
     "metadata": {},
     "output_type": "execute_result"
    }
   ],
   "source": [
    "df2[df2['Vehicle_type']=='Passenger vehicles'].groupby(['Year','Vehicle_type'])['Total kilometres travelled'].sum().unstack()"
   ]
  },
  {
   "cell_type": "markdown",
   "metadata": {},
   "source": [
    "Total kilometres travelled (million) of motor vehicles through years."
   ]
  },
  {
   "cell_type": "code",
   "execution_count": 11,
   "metadata": {},
   "outputs": [
    {
     "data": {
      "text/html": [
       "<div>\n",
       "<style scoped>\n",
       "    .dataframe tbody tr th:only-of-type {\n",
       "        vertical-align: middle;\n",
       "    }\n",
       "\n",
       "    .dataframe tbody tr th {\n",
       "        vertical-align: top;\n",
       "    }\n",
       "\n",
       "    .dataframe thead th {\n",
       "        text-align: right;\n",
       "    }\n",
       "</style>\n",
       "<table border=\"1\" class=\"dataframe\">\n",
       "  <thead>\n",
       "    <tr style=\"text-align: right;\">\n",
       "      <th>Vehicle_type</th>\n",
       "      <th>Total</th>\n",
       "    </tr>\n",
       "    <tr>\n",
       "      <th>Year</th>\n",
       "      <th></th>\n",
       "    </tr>\n",
       "  </thead>\n",
       "  <tbody>\n",
       "    <tr>\n",
       "      <th>2010</th>\n",
       "      <td>226632</td>\n",
       "    </tr>\n",
       "    <tr>\n",
       "      <th>2012</th>\n",
       "      <td>232453</td>\n",
       "    </tr>\n",
       "    <tr>\n",
       "      <th>2014</th>\n",
       "      <td>244369</td>\n",
       "    </tr>\n",
       "    <tr>\n",
       "      <th>2016</th>\n",
       "      <td>249512</td>\n",
       "    </tr>\n",
       "    <tr>\n",
       "      <th>2018</th>\n",
       "      <td>255031</td>\n",
       "    </tr>\n",
       "  </tbody>\n",
       "</table>\n",
       "</div>"
      ],
      "text/plain": [
       "Vehicle_type   Total\n",
       "Year                \n",
       "2010          226632\n",
       "2012          232453\n",
       "2014          244369\n",
       "2016          249512\n",
       "2018          255031"
      ]
     },
     "execution_count": 11,
     "metadata": {},
     "output_type": "execute_result"
    }
   ],
   "source": [
    "df2[df2['Vehicle_type']=='Total'].groupby(['Year','Vehicle_type'])['Total kilometres travelled'].sum().unstack()"
   ]
  },
  {
   "cell_type": "code",
   "execution_count": 12,
   "metadata": {},
   "outputs": [],
   "source": [
    "total_fuel_motor = df2[df2['Vehicle_type']!='Total'].pivot_table('Fuel consumed', index='Year', columns='Vehicle_type', aggfunc=sum)"
   ]
  },
  {
   "cell_type": "code",
   "execution_count": 13,
   "metadata": {},
   "outputs": [
    {
     "data": {
      "image/png": "[encoded data removed]",
      "text/plain": [
       "<Figure size 1080x360 with 1 Axes>"
      ]
     },
     "metadata": {
      "needs_background": "light"
     },
     "output_type": "display_data"
    }
   ],
   "source": [
    "total_fuel_motor.plot(figsize=(15, 5), \n",
    "                  title=\"Total fuel consumed of motor vehicles through years\", \n",
    "                  lw=3,  \n",
    "                  alpha=1).set_ylabel(\"Total fuel consumed (megalitres)\");"
   ]
  },
  {
   "cell_type": "markdown",
   "metadata": {},
   "source": [
    "Total fuel consumed (megalitres) of motor vehicles through years"
   ]
  },
  {
   "cell_type": "code",
   "execution_count": 14,
   "metadata": {},
   "outputs": [
    {
     "data": {
      "text/html": [
       "<div>\n",
       "<style scoped>\n",
       "    .dataframe tbody tr th:only-of-type {\n",
       "        vertical-align: middle;\n",
       "    }\n",
       "\n",
       "    .dataframe tbody tr th {\n",
       "        vertical-align: top;\n",
       "    }\n",
       "\n",
       "    .dataframe thead th {\n",
       "        text-align: right;\n",
       "    }\n",
       "</style>\n",
       "<table border=\"1\" class=\"dataframe\">\n",
       "  <thead>\n",
       "    <tr style=\"text-align: right;\">\n",
       "      <th>Vehicle_type</th>\n",
       "      <th>Total</th>\n",
       "    </tr>\n",
       "    <tr>\n",
       "      <th>Year</th>\n",
       "      <th></th>\n",
       "    </tr>\n",
       "  </thead>\n",
       "  <tbody>\n",
       "    <tr>\n",
       "      <th>2010</th>\n",
       "      <td>31186</td>\n",
       "    </tr>\n",
       "    <tr>\n",
       "      <th>2012</th>\n",
       "      <td>31839</td>\n",
       "    </tr>\n",
       "    <tr>\n",
       "      <th>2014</th>\n",
       "      <td>32402</td>\n",
       "    </tr>\n",
       "    <tr>\n",
       "      <th>2016</th>\n",
       "      <td>32732</td>\n",
       "    </tr>\n",
       "    <tr>\n",
       "      <th>2018</th>\n",
       "      <td>34170</td>\n",
       "    </tr>\n",
       "  </tbody>\n",
       "</table>\n",
       "</div>"
      ],
      "text/plain": [
       "Vehicle_type  Total\n",
       "Year               \n",
       "2010          31186\n",
       "2012          31839\n",
       "2014          32402\n",
       "2016          32732\n",
       "2018          34170"
      ]
     },
     "execution_count": 14,
     "metadata": {},
     "output_type": "execute_result"
    }
   ],
   "source": [
    "df2[df2['Vehicle_type']=='Total'].groupby(['Year','Vehicle_type'])['Fuel consumed'].sum().unstack()"
   ]
  },
  {
   "cell_type": "code",
   "execution_count": 190,
   "metadata": {},
   "outputs": [],
   "source": [
    "df2.Vehicle_type = df2.Vehicle_type.astype('category')"
   ]
  },
  {
   "cell_type": "markdown",
   "metadata": {},
   "source": [
    "Check if the dataset is properly lable"
   ]
  },
  {
   "cell_type": "code",
   "execution_count": 15,
   "metadata": {},
   "outputs": [
    {
     "data": {
      "text/html": [
       "<div>\n",
       "<style scoped>\n",
       "    .dataframe tbody tr th:only-of-type {\n",
       "        vertical-align: middle;\n",
       "    }\n",
       "\n",
       "    .dataframe tbody tr th {\n",
       "        vertical-align: top;\n",
       "    }\n",
       "\n",
       "    .dataframe thead th {\n",
       "        text-align: right;\n",
       "    }\n",
       "</style>\n",
       "<table border=\"1\" class=\"dataframe\">\n",
       "  <thead>\n",
       "    <tr style=\"text-align: right;\">\n",
       "      <th></th>\n",
       "      <th>State</th>\n",
       "      <th>Year</th>\n",
       "      <th>Total kilometres travelled</th>\n",
       "      <th>Total kilometres travelled - RSE</th>\n",
       "      <th>Number_of_vehicles</th>\n",
       "      <th>Number of vehicles - RSE</th>\n",
       "      <th>Average kilometres travelled</th>\n",
       "      <th>Average kilometres travelled - RSE</th>\n",
       "    </tr>\n",
       "  </thead>\n",
       "  <tbody>\n",
       "    <tr>\n",
       "      <th>0</th>\n",
       "      <td>New South Wales</td>\n",
       "      <td>2010</td>\n",
       "      <td>66581.0</td>\n",
       "      <td>4.74</td>\n",
       "      <td>4673192.0</td>\n",
       "      <td>1.29</td>\n",
       "      <td>14.2</td>\n",
       "      <td>4.55</td>\n",
       "    </tr>\n",
       "    <tr>\n",
       "      <th>1</th>\n",
       "      <td>New South Wales</td>\n",
       "      <td>2012</td>\n",
       "      <td>66712.0</td>\n",
       "      <td>4.35</td>\n",
       "      <td>4839152.0</td>\n",
       "      <td>1.26</td>\n",
       "      <td>13.8</td>\n",
       "      <td>4.37</td>\n",
       "    </tr>\n",
       "    <tr>\n",
       "      <th>2</th>\n",
       "      <td>New South Wales</td>\n",
       "      <td>2014</td>\n",
       "      <td>72154.0</td>\n",
       "      <td>4.07</td>\n",
       "      <td>5105929.0</td>\n",
       "      <td>1.22</td>\n",
       "      <td>14.1</td>\n",
       "      <td>3.99</td>\n",
       "    </tr>\n",
       "    <tr>\n",
       "      <th>3</th>\n",
       "      <td>New South Wales</td>\n",
       "      <td>2016</td>\n",
       "      <td>70696.0</td>\n",
       "      <td>3.87</td>\n",
       "      <td>5333001.0</td>\n",
       "      <td>1.06</td>\n",
       "      <td>13.3</td>\n",
       "      <td>3.80</td>\n",
       "    </tr>\n",
       "    <tr>\n",
       "      <th>4</th>\n",
       "      <td>New South Wales</td>\n",
       "      <td>2018</td>\n",
       "      <td>74566.0</td>\n",
       "      <td>4.10</td>\n",
       "      <td>5586547.0</td>\n",
       "      <td>1.39</td>\n",
       "      <td>13.3</td>\n",
       "      <td>4.16</td>\n",
       "    </tr>\n",
       "  </tbody>\n",
       "</table>\n",
       "</div>"
      ],
      "text/plain": [
       "             State  Year  Total kilometres travelled  \\\n",
       "0  New South Wales  2010                     66581.0   \n",
       "1  New South Wales  2012                     66712.0   \n",
       "2  New South Wales  2014                     72154.0   \n",
       "3  New South Wales  2016                     70696.0   \n",
       "4  New South Wales  2018                     74566.0   \n",
       "\n",
       "   Total kilometres travelled - RSE  Number_of_vehicles  \\\n",
       "0                              4.74           4673192.0   \n",
       "1                              4.35           4839152.0   \n",
       "2                              4.07           5105929.0   \n",
       "3                              3.87           5333001.0   \n",
       "4                              4.10           5586547.0   \n",
       "\n",
       "   Number of vehicles - RSE  Average kilometres travelled  \\\n",
       "0                      1.29                          14.2   \n",
       "1                      1.26                          13.8   \n",
       "2                      1.22                          14.1   \n",
       "3                      1.06                          13.3   \n",
       "4                      1.39                          13.3   \n",
       "\n",
       "   Average kilometres travelled - RSE  \n",
       "0                                4.55  \n",
       "1                                4.37  \n",
       "2                                3.99  \n",
       "3                                3.80  \n",
       "4                                4.16  "
      ]
     },
     "execution_count": 15,
     "metadata": {},
     "output_type": "execute_result"
    }
   ],
   "source": [
    "df3 = pd.read_csv(input_path3)\n",
    "df3.head()"
   ]
  },
  {
   "cell_type": "code",
   "execution_count": 16,
   "metadata": {},
   "outputs": [
    {
     "data": {
      "text/plain": [
       "State                                  object\n",
       "Year                                    int64\n",
       "Total kilometres travelled            float64\n",
       "Total kilometres travelled - RSE      float64\n",
       "Number_of_vehicles                    float64\n",
       "Number of vehicles - RSE              float64\n",
       "Average kilometres travelled          float64\n",
       "Average kilometres travelled - RSE    float64\n",
       "dtype: object"
      ]
     },
     "execution_count": 16,
     "metadata": {},
     "output_type": "execute_result"
    }
   ],
   "source": [
    "df3.State = df3.State.astype('object')\n",
    "df3.Year = df3.Year.astype('int64')\n",
    "df3.dtypes"
   ]
  },
  {
   "cell_type": "code",
   "execution_count": 17,
   "metadata": {},
   "outputs": [],
   "source": [
    "num_motor_vehicles = df3[df3['State']!='Australia'].pivot_table('Number_of_vehicles', index='Year', columns='State', aggfunc=sum)"
   ]
  },
  {
   "cell_type": "code",
   "execution_count": 18,
   "metadata": {},
   "outputs": [
    {
     "data": {
      "text/html": [
       "<div>\n",
       "<style scoped>\n",
       "    .dataframe tbody tr th:only-of-type {\n",
       "        vertical-align: middle;\n",
       "    }\n",
       "\n",
       "    .dataframe tbody tr th {\n",
       "        vertical-align: top;\n",
       "    }\n",
       "\n",
       "    .dataframe thead th {\n",
       "        text-align: right;\n",
       "    }\n",
       "</style>\n",
       "<table border=\"1\" class=\"dataframe\">\n",
       "  <thead>\n",
       "    <tr style=\"text-align: right;\">\n",
       "      <th>State</th>\n",
       "      <th>Australian Capital Territory</th>\n",
       "      <th>New South Wales</th>\n",
       "      <th>Northern Territory</th>\n",
       "      <th>Queensland</th>\n",
       "      <th>South Australia</th>\n",
       "      <th>Tasmania</th>\n",
       "      <th>Victoria</th>\n",
       "      <th>Western Australia</th>\n",
       "    </tr>\n",
       "    <tr>\n",
       "      <th>Year</th>\n",
       "      <th></th>\n",
       "      <th></th>\n",
       "      <th></th>\n",
       "      <th></th>\n",
       "      <th></th>\n",
       "      <th></th>\n",
       "      <th></th>\n",
       "      <th></th>\n",
       "    </tr>\n",
       "  </thead>\n",
       "  <tbody>\n",
       "    <tr>\n",
       "      <th>2010</th>\n",
       "      <td>252771.0</td>\n",
       "      <td>4673192.0</td>\n",
       "      <td>133700.0</td>\n",
       "      <td>3362083.0</td>\n",
       "      <td>1233241.0</td>\n",
       "      <td>409949.0</td>\n",
       "      <td>4108442.0</td>\n",
       "      <td>1871679.0</td>\n",
       "    </tr>\n",
       "    <tr>\n",
       "      <th>2012</th>\n",
       "      <td>265327.0</td>\n",
       "      <td>4839152.0</td>\n",
       "      <td>141257.0</td>\n",
       "      <td>3436008.0</td>\n",
       "      <td>1270552.0</td>\n",
       "      <td>424035.0</td>\n",
       "      <td>4239351.0</td>\n",
       "      <td>1996355.0</td>\n",
       "    </tr>\n",
       "    <tr>\n",
       "      <th>2014</th>\n",
       "      <td>271921.0</td>\n",
       "      <td>5105929.0</td>\n",
       "      <td>151170.0</td>\n",
       "      <td>3711474.0</td>\n",
       "      <td>1330412.0</td>\n",
       "      <td>436976.0</td>\n",
       "      <td>4519604.0</td>\n",
       "      <td>2156105.0</td>\n",
       "    </tr>\n",
       "    <tr>\n",
       "      <th>2016</th>\n",
       "      <td>284345.0</td>\n",
       "      <td>5333001.0</td>\n",
       "      <td>157944.0</td>\n",
       "      <td>3791028.0</td>\n",
       "      <td>1343791.0</td>\n",
       "      <td>457922.0</td>\n",
       "      <td>4611155.0</td>\n",
       "      <td>2212489.0</td>\n",
       "    </tr>\n",
       "    <tr>\n",
       "      <th>2018</th>\n",
       "      <td>304455.0</td>\n",
       "      <td>5586547.0</td>\n",
       "      <td>163237.0</td>\n",
       "      <td>4043013.0</td>\n",
       "      <td>1386196.0</td>\n",
       "      <td>474951.0</td>\n",
       "      <td>4839222.0</td>\n",
       "      <td>2215147.0</td>\n",
       "    </tr>\n",
       "  </tbody>\n",
       "</table>\n",
       "</div>"
      ],
      "text/plain": [
       "State  Australian Capital Territory  New South Wales  Northern Territory  \\\n",
       "Year                                                                       \n",
       "2010                       252771.0        4673192.0            133700.0   \n",
       "2012                       265327.0        4839152.0            141257.0   \n",
       "2014                       271921.0        5105929.0            151170.0   \n",
       "2016                       284345.0        5333001.0            157944.0   \n",
       "2018                       304455.0        5586547.0            163237.0   \n",
       "\n",
       "State  Queensland  South Australia  Tasmania   Victoria  Western Australia  \n",
       "Year                                                                        \n",
       "2010    3362083.0        1233241.0  409949.0  4108442.0          1871679.0  \n",
       "2012    3436008.0        1270552.0  424035.0  4239351.0          1996355.0  \n",
       "2014    3711474.0        1330412.0  436976.0  4519604.0          2156105.0  \n",
       "2016    3791028.0        1343791.0  457922.0  4611155.0          2212489.0  \n",
       "2018    4043013.0        1386196.0  474951.0  4839222.0          2215147.0  "
      ]
     },
     "execution_count": 18,
     "metadata": {},
     "output_type": "execute_result"
    }
   ],
   "source": [
    "num_motor_vehicles"
   ]
  },
  {
   "cell_type": "code",
   "execution_count": 19,
   "metadata": {},
   "outputs": [
    {
     "data": {
      "image/png": "[encoded data removed]",
      "text/plain": [
       "<Figure size 1080x360 with 1 Axes>"
      ]
     },
     "metadata": {
      "needs_background": "light"
     },
     "output_type": "display_data"
    }
   ],
   "source": [
    "num_motor_vehicles.plot(figsize=(15, 5), \n",
    "                  title=\"Total number of motor vehicles through years\", \n",
    "                  lw=3,  \n",
    "                  alpha=1).set_ylabel(\"Number of motor vehicles\");"
   ]
  },
  {
   "cell_type": "markdown",
   "metadata": {},
   "source": [
    "Total number of vehicles in Australia from 2010 to 2018. "
   ]
  },
  {
   "cell_type": "code",
   "execution_count": 20,
   "metadata": {},
   "outputs": [
    {
     "data": {
      "text/html": [
       "<div>\n",
       "<style scoped>\n",
       "    .dataframe tbody tr th:only-of-type {\n",
       "        vertical-align: middle;\n",
       "    }\n",
       "\n",
       "    .dataframe tbody tr th {\n",
       "        vertical-align: top;\n",
       "    }\n",
       "\n",
       "    .dataframe thead th {\n",
       "        text-align: right;\n",
       "    }\n",
       "</style>\n",
       "<table border=\"1\" class=\"dataframe\">\n",
       "  <thead>\n",
       "    <tr style=\"text-align: right;\">\n",
       "      <th>State</th>\n",
       "      <th>Australia</th>\n",
       "    </tr>\n",
       "    <tr>\n",
       "      <th>Year</th>\n",
       "      <th></th>\n",
       "    </tr>\n",
       "  </thead>\n",
       "  <tbody>\n",
       "    <tr>\n",
       "      <th>2010</th>\n",
       "      <td>16045057.0</td>\n",
       "    </tr>\n",
       "    <tr>\n",
       "      <th>2012</th>\n",
       "      <td>16612038.0</td>\n",
       "    </tr>\n",
       "    <tr>\n",
       "      <th>2014</th>\n",
       "      <td>17683590.0</td>\n",
       "    </tr>\n",
       "    <tr>\n",
       "      <th>2016</th>\n",
       "      <td>18191675.0</td>\n",
       "    </tr>\n",
       "    <tr>\n",
       "      <th>2018</th>\n",
       "      <td>19012770.0</td>\n",
       "    </tr>\n",
       "  </tbody>\n",
       "</table>\n",
       "</div>"
      ],
      "text/plain": [
       "State   Australia\n",
       "Year             \n",
       "2010   16045057.0\n",
       "2012   16612038.0\n",
       "2014   17683590.0\n",
       "2016   18191675.0\n",
       "2018   19012770.0"
      ]
     },
     "execution_count": 20,
     "metadata": {},
     "output_type": "execute_result"
    }
   ],
   "source": [
    "df3[df3['State']=='Australia'].groupby(['Year','State'])['Number_of_vehicles'].sum().unstack()"
   ]
  },
  {
   "cell_type": "markdown",
   "metadata": {},
   "source": [
    "Estimation of the total number of vehicles in Australia from 2018 to 2024. "
   ]
  },
  {
   "cell_type": "code",
   "execution_count": 23,
   "metadata": {},
   "outputs": [
    {
     "data": {
      "text/plain": [
       "[<matplotlib.lines.Line2D at 0x1fbbf960d88>]"
      ]
     },
     "execution_count": 23,
     "metadata": {},
     "output_type": "execute_result"
    },
    {
     "data": {
      "image/png": "[encoded data removed]",
      "text/plain": [
       "<Figure size 432x288 with 1 Axes>"
      ]
     },
     "metadata": {
      "needs_background": "light"
     },
     "output_type": "display_data"
    }
   ],
   "source": [
    "x = np.array([2010, 2012, 2014, 2016, 2018])\n",
    "y = np.array([16045057.0, 16612038.0, 17683590.0, 18191675.0, 19012770.0])\n",
    "\n",
    "\n",
    "f = scipy.interpolate.interp1d(x, y, kind='quadratic')\n",
    "\n",
    "dx = 0.01\n",
    "x0 = x[-1] - 2*dx\n",
    "first = scipy.misc.derivative(f, x0, dx=dx, n=1)\n",
    "second = scipy.misc.derivative(f, x0, dx=dx, n=2)\n",
    "\n",
    "forecast = lambda x_new: np.poly1d([second/2, first, f(x[-1])])(x_new - x[-1])\n",
    "\n",
    "xs = np.arange(2014, 2024)\n",
    "ys = forecast(xs)\n",
    "\n",
    "x_formatter = matplotlib.ticker.ScalarFormatter()  \n",
    "plt.gca().xaxis.set_major_formatter(x_formatter)\n",
    "\n",
    "plt.plot(xs, ys)"
   ]
  },
  {
   "cell_type": "code",
   "execution_count": 24,
   "metadata": {},
   "outputs": [],
   "source": [
    "total_motor_km = df3[df3['State']!='Australia'].pivot_table('Total kilometres travelled', index='Year', columns='State', aggfunc=sum)"
   ]
  },
  {
   "cell_type": "code",
   "execution_count": 25,
   "metadata": {
    "scrolled": true
   },
   "outputs": [
    {
     "data": {
      "image/png": "[encoded data removed]",
      "text/plain": [
       "<Figure size 1080x360 with 1 Axes>"
      ]
     },
     "metadata": {
      "needs_background": "light"
     },
     "output_type": "display_data"
    }
   ],
   "source": [
    "total_motor_km.plot(figsize=(15, 5), \n",
    "                  title=\"Total kilometres travelled of motor vehicles between states through years\", \n",
    "                  lw=3,  \n",
    "                  alpha=1).set_ylabel(\"Total kilometres travelled (million)\");"
   ]
  },
  {
   "cell_type": "markdown",
   "metadata": {},
   "source": [
    "Total kilometres travelled (million) of motor vehicles between states through years."
   ]
  },
  {
   "cell_type": "code",
   "execution_count": 26,
   "metadata": {},
   "outputs": [
    {
     "data": {
      "text/html": [
       "<div>\n",
       "<style scoped>\n",
       "    .dataframe tbody tr th:only-of-type {\n",
       "        vertical-align: middle;\n",
       "    }\n",
       "\n",
       "    .dataframe tbody tr th {\n",
       "        vertical-align: top;\n",
       "    }\n",
       "\n",
       "    .dataframe thead th {\n",
       "        text-align: right;\n",
       "    }\n",
       "</style>\n",
       "<table border=\"1\" class=\"dataframe\">\n",
       "  <thead>\n",
       "    <tr style=\"text-align: right;\">\n",
       "      <th>State</th>\n",
       "      <th>Australian Capital Territory</th>\n",
       "      <th>New South Wales</th>\n",
       "      <th>Northern Territory</th>\n",
       "      <th>Queensland</th>\n",
       "      <th>South Australia</th>\n",
       "      <th>Tasmania</th>\n",
       "      <th>Victoria</th>\n",
       "      <th>Western Australia</th>\n",
       "    </tr>\n",
       "    <tr>\n",
       "      <th>Year</th>\n",
       "      <th></th>\n",
       "      <th></th>\n",
       "      <th></th>\n",
       "      <th></th>\n",
       "      <th></th>\n",
       "      <th></th>\n",
       "      <th></th>\n",
       "      <th></th>\n",
       "    </tr>\n",
       "  </thead>\n",
       "  <tbody>\n",
       "    <tr>\n",
       "      <th>2010</th>\n",
       "      <td>3539.0</td>\n",
       "      <td>66581.0</td>\n",
       "      <td>1949.0</td>\n",
       "      <td>48517.0</td>\n",
       "      <td>14615.0</td>\n",
       "      <td>4975.0</td>\n",
       "      <td>60171.0</td>\n",
       "      <td>26285.0</td>\n",
       "    </tr>\n",
       "    <tr>\n",
       "      <th>2012</th>\n",
       "      <td>3787.0</td>\n",
       "      <td>66712.0</td>\n",
       "      <td>1854.0</td>\n",
       "      <td>51317.0</td>\n",
       "      <td>16312.0</td>\n",
       "      <td>4904.0</td>\n",
       "      <td>60066.0</td>\n",
       "      <td>27500.0</td>\n",
       "    </tr>\n",
       "    <tr>\n",
       "      <th>2014</th>\n",
       "      <td>3709.0</td>\n",
       "      <td>72154.0</td>\n",
       "      <td>2032.0</td>\n",
       "      <td>51337.0</td>\n",
       "      <td>16716.0</td>\n",
       "      <td>5208.0</td>\n",
       "      <td>65633.0</td>\n",
       "      <td>27581.0</td>\n",
       "    </tr>\n",
       "    <tr>\n",
       "      <th>2016</th>\n",
       "      <td>3746.0</td>\n",
       "      <td>70696.0</td>\n",
       "      <td>2053.0</td>\n",
       "      <td>54437.0</td>\n",
       "      <td>16915.0</td>\n",
       "      <td>5380.0</td>\n",
       "      <td>66850.0</td>\n",
       "      <td>29434.0</td>\n",
       "    </tr>\n",
       "    <tr>\n",
       "      <th>2018</th>\n",
       "      <td>3860.0</td>\n",
       "      <td>74566.0</td>\n",
       "      <td>2185.0</td>\n",
       "      <td>55419.0</td>\n",
       "      <td>17817.0</td>\n",
       "      <td>5753.0</td>\n",
       "      <td>68030.0</td>\n",
       "      <td>27401.0</td>\n",
       "    </tr>\n",
       "  </tbody>\n",
       "</table>\n",
       "</div>"
      ],
      "text/plain": [
       "State  Australian Capital Territory  New South Wales  Northern Territory  \\\n",
       "Year                                                                       \n",
       "2010                         3539.0          66581.0              1949.0   \n",
       "2012                         3787.0          66712.0              1854.0   \n",
       "2014                         3709.0          72154.0              2032.0   \n",
       "2016                         3746.0          70696.0              2053.0   \n",
       "2018                         3860.0          74566.0              2185.0   \n",
       "\n",
       "State  Queensland  South Australia  Tasmania  Victoria  Western Australia  \n",
       "Year                                                                       \n",
       "2010      48517.0          14615.0    4975.0   60171.0            26285.0  \n",
       "2012      51317.0          16312.0    4904.0   60066.0            27500.0  \n",
       "2014      51337.0          16716.0    5208.0   65633.0            27581.0  \n",
       "2016      54437.0          16915.0    5380.0   66850.0            29434.0  \n",
       "2018      55419.0          17817.0    5753.0   68030.0            27401.0  "
      ]
     },
     "execution_count": 26,
     "metadata": {},
     "output_type": "execute_result"
    }
   ],
   "source": [
    "df3[df3['State']!='Australia'].groupby(['Year','State'])['Total kilometres travelled'].sum().unstack()"
   ]
  },
  {
   "cell_type": "markdown",
   "metadata": {},
   "source": [
    "Total kilometres travelled (million) of motor vehicles in Australia through years."
   ]
  },
  {
   "cell_type": "code",
   "execution_count": 27,
   "metadata": {},
   "outputs": [
    {
     "data": {
      "text/html": [
       "<div>\n",
       "<style scoped>\n",
       "    .dataframe tbody tr th:only-of-type {\n",
       "        vertical-align: middle;\n",
       "    }\n",
       "\n",
       "    .dataframe tbody tr th {\n",
       "        vertical-align: top;\n",
       "    }\n",
       "\n",
       "    .dataframe thead th {\n",
       "        text-align: right;\n",
       "    }\n",
       "</style>\n",
       "<table border=\"1\" class=\"dataframe\">\n",
       "  <thead>\n",
       "    <tr style=\"text-align: right;\">\n",
       "      <th>State</th>\n",
       "      <th>Australia</th>\n",
       "    </tr>\n",
       "    <tr>\n",
       "      <th>Year</th>\n",
       "      <th></th>\n",
       "    </tr>\n",
       "  </thead>\n",
       "  <tbody>\n",
       "    <tr>\n",
       "      <th>2010</th>\n",
       "      <td>226632.0</td>\n",
       "    </tr>\n",
       "    <tr>\n",
       "      <th>2012</th>\n",
       "      <td>232453.0</td>\n",
       "    </tr>\n",
       "    <tr>\n",
       "      <th>2014</th>\n",
       "      <td>244369.0</td>\n",
       "    </tr>\n",
       "    <tr>\n",
       "      <th>2016</th>\n",
       "      <td>249512.0</td>\n",
       "    </tr>\n",
       "    <tr>\n",
       "      <th>2018</th>\n",
       "      <td>255031.0</td>\n",
       "    </tr>\n",
       "  </tbody>\n",
       "</table>\n",
       "</div>"
      ],
      "text/plain": [
       "State  Australia\n",
       "Year            \n",
       "2010    226632.0\n",
       "2012    232453.0\n",
       "2014    244369.0\n",
       "2016    249512.0\n",
       "2018    255031.0"
      ]
     },
     "execution_count": 27,
     "metadata": {},
     "output_type": "execute_result"
    }
   ],
   "source": [
    "df3[df3['State']=='Australia'].groupby(['Year','State'])['Total kilometres travelled'].sum().unstack()"
   ]
  },
  {
   "cell_type": "markdown",
   "metadata": {},
   "source": [
    "Estimation of the total kilometres travelled in Australia from 2018 to 2024. "
   ]
  },
  {
   "cell_type": "code",
   "execution_count": 28,
   "metadata": {},
   "outputs": [
    {
     "data": {
      "text/plain": [
       "[<matplotlib.lines.Line2D at 0x1fbbfd10748>]"
      ]
     },
     "execution_count": 28,
     "metadata": {},
     "output_type": "execute_result"
    },
    {
     "data": {
      "image/png": "[encoded data removed]",
      "text/plain": [
       "<Figure size 432x288 with 1 Axes>"
      ]
     },
     "metadata": {
      "needs_background": "light"
     },
     "output_type": "display_data"
    }
   ],
   "source": [
    "x = np.array([2010, 2012, 2014, 2016, 2018])\n",
    "y = np.array([226632.0, 232453.0, 244369.0, 249512.0, 255031.0])\n",
    "\n",
    "\n",
    "f = scipy.interpolate.interp1d(x, y, kind='quadratic')\n",
    "\n",
    "dx = 0.01\n",
    "x0 = x[-1] - 2*dx\n",
    "first = scipy.misc.derivative(f, x0, dx=dx, n=1)\n",
    "second = scipy.misc.derivative(f, x0, dx=dx, n=2)\n",
    "\n",
    "forecast = lambda x_new: np.poly1d([second/2, first, f(x[-1])])(x_new - x[-1])\n",
    "\n",
    "xs = np.arange(2012, 2024)\n",
    "ys = forecast(xs)\n",
    "\n",
    "x_formatter = matplotlib.ticker.ScalarFormatter()  \n",
    "plt.gca().xaxis.set_major_formatter(x_formatter)\n",
    "\n",
    "plt.plot(xs, ys)"
   ]
  },
  {
   "cell_type": "markdown",
   "metadata": {},
   "source": [
    "Check if the dataset is properly lable"
   ]
  },
  {
   "cell_type": "code",
   "execution_count": 29,
   "metadata": {},
   "outputs": [
    {
     "data": {
      "text/html": [
       "<div>\n",
       "<style scoped>\n",
       "    .dataframe tbody tr th:only-of-type {\n",
       "        vertical-align: middle;\n",
       "    }\n",
       "\n",
       "    .dataframe tbody tr th {\n",
       "        vertical-align: top;\n",
       "    }\n",
       "\n",
       "    .dataframe thead th {\n",
       "        text-align: right;\n",
       "    }\n",
       "</style>\n",
       "<table border=\"1\" class=\"dataframe\">\n",
       "  <thead>\n",
       "    <tr style=\"text-align: right;\">\n",
       "      <th></th>\n",
       "      <th>State</th>\n",
       "      <th>Vehicle_type</th>\n",
       "      <th>Petrol</th>\n",
       "      <th>Petrol - RSE</th>\n",
       "      <th>Diesel</th>\n",
       "      <th>Diesel - RSE</th>\n",
       "      <th>LPG/CNG/dual fuel/hybrid and other</th>\n",
       "      <th>LPG/CNG/dual fuel/hybrid and other - RSE</th>\n",
       "      <th>Total_fuel</th>\n",
       "      <th>Total fuel - RSE</th>\n",
       "    </tr>\n",
       "  </thead>\n",
       "  <tbody>\n",
       "    <tr>\n",
       "      <th>0</th>\n",
       "      <td>New South Wales</td>\n",
       "      <td>Passenger vehicles</td>\n",
       "      <td>4978.0</td>\n",
       "      <td>6.43</td>\n",
       "      <td>755.0</td>\n",
       "      <td>28.59</td>\n",
       "      <td>107.0</td>\n",
       "      <td>29.41</td>\n",
       "      <td>5840.0</td>\n",
       "      <td>5.27</td>\n",
       "    </tr>\n",
       "    <tr>\n",
       "      <th>1</th>\n",
       "      <td>New South Wales</td>\n",
       "      <td>Motor cycles</td>\n",
       "      <td>38.0</td>\n",
       "      <td>25.37</td>\n",
       "      <td>0.0</td>\n",
       "      <td>0.00</td>\n",
       "      <td>0.0</td>\n",
       "      <td>0.00</td>\n",
       "      <td>38.0</td>\n",
       "      <td>25.37</td>\n",
       "    </tr>\n",
       "    <tr>\n",
       "      <th>2</th>\n",
       "      <td>New South Wales</td>\n",
       "      <td>Light commercial vehicles</td>\n",
       "      <td>447.0</td>\n",
       "      <td>14.34</td>\n",
       "      <td>1302.0</td>\n",
       "      <td>8.09</td>\n",
       "      <td>54.0</td>\n",
       "      <td>71.00</td>\n",
       "      <td>1803.0</td>\n",
       "      <td>6.40</td>\n",
       "    </tr>\n",
       "    <tr>\n",
       "      <th>3</th>\n",
       "      <td>New South Wales</td>\n",
       "      <td>Rigid trucks</td>\n",
       "      <td>10.0</td>\n",
       "      <td>39.04</td>\n",
       "      <td>902.0</td>\n",
       "      <td>7.05</td>\n",
       "      <td>0.0</td>\n",
       "      <td>0.00</td>\n",
       "      <td>912.0</td>\n",
       "      <td>7.00</td>\n",
       "    </tr>\n",
       "    <tr>\n",
       "      <th>4</th>\n",
       "      <td>New South Wales</td>\n",
       "      <td>Articulated trucks</td>\n",
       "      <td>0.0</td>\n",
       "      <td>0.00</td>\n",
       "      <td>981.0</td>\n",
       "      <td>3.72</td>\n",
       "      <td>0.0</td>\n",
       "      <td>0.00</td>\n",
       "      <td>981.0</td>\n",
       "      <td>3.72</td>\n",
       "    </tr>\n",
       "  </tbody>\n",
       "</table>\n",
       "</div>"
      ],
      "text/plain": [
       "             State               Vehicle_type  Petrol  Petrol - RSE  Diesel  \\\n",
       "0  New South Wales         Passenger vehicles  4978.0          6.43   755.0   \n",
       "1  New South Wales               Motor cycles    38.0         25.37     0.0   \n",
       "2  New South Wales  Light commercial vehicles   447.0         14.34  1302.0   \n",
       "3  New South Wales               Rigid trucks    10.0         39.04   902.0   \n",
       "4  New South Wales         Articulated trucks     0.0          0.00   981.0   \n",
       "\n",
       "   Diesel - RSE  LPG/CNG/dual fuel/hybrid and other  \\\n",
       "0         28.59                               107.0   \n",
       "1          0.00                                 0.0   \n",
       "2          8.09                                54.0   \n",
       "3          7.05                                 0.0   \n",
       "4          3.72                                 0.0   \n",
       "\n",
       "   LPG/CNG/dual fuel/hybrid and other - RSE  Total_fuel  Total fuel - RSE  \n",
       "0                                     29.41      5840.0              5.27  \n",
       "1                                      0.00        38.0             25.37  \n",
       "2                                     71.00      1803.0              6.40  \n",
       "3                                      0.00       912.0              7.00  \n",
       "4                                      0.00       981.0              3.72  "
      ]
     },
     "execution_count": 29,
     "metadata": {},
     "output_type": "execute_result"
    }
   ],
   "source": [
    "df4 = pd.read_csv(input_path4)\n",
    "df4.head()"
   ]
  },
  {
   "cell_type": "code",
   "execution_count": 30,
   "metadata": {},
   "outputs": [
    {
     "data": {
      "image/png": "[encoded data removed]",
      "text/plain": [
       "<Figure size 1080x720 with 1 Axes>"
      ]
     },
     "metadata": {
      "needs_background": "light"
     },
     "output_type": "display_data"
    }
   ],
   "source": [
    "dist5 = df4[df4['State']!='Australia'].groupby(['State','Vehicle_type'])['Total_fuel'].sum().unstack()\n",
    "g5 = dist5.plot(kind='barh',figsize = (15,10),title = \"Distribution of total fuel of different vehicles between states\").set_ylabel(\"Total fuel consumed (megalitres)\")"
   ]
  },
  {
   "cell_type": "code",
   "execution_count": 31,
   "metadata": {},
   "outputs": [
    {
     "data": {
      "image/png": "[encoded data removed]",
      "text/plain": [
       "<Figure size 1800x720 with 1 Axes>"
      ]
     },
     "metadata": {},
     "output_type": "display_data"
    }
   ],
   "source": [
    "dist6 = df4[df4['State']!='Australia'].groupby(['State']).Total_fuel.sum()\n",
    "p = dist6.plot(kind='pie', autopct='%1.1f%%',startangle=90,figsize = (25,10),title = \"Distribution of total fuel between states\")"
   ]
  },
  {
   "cell_type": "markdown",
   "metadata": {},
   "source": [
    "Total fuel consumed (megalitres) in every state"
   ]
  },
  {
   "cell_type": "code",
   "execution_count": 32,
   "metadata": {},
   "outputs": [
    {
     "data": {
      "text/plain": [
       "State\n",
       "Australian Capital Territory     432.0\n",
       "New South Wales                 9782.0\n",
       "Northern Territory               324.0\n",
       "Queensland                      7580.0\n",
       "South Australia                 2394.0\n",
       "Tasmania                         743.0\n",
       "Victoria                        8865.0\n",
       "Western Australia               4049.0\n",
       "Name: Total_fuel, dtype: float64"
      ]
     },
     "execution_count": 32,
     "metadata": {},
     "output_type": "execute_result"
    }
   ],
   "source": [
    "df4[df4['State']!='Australia'].groupby(['State']).Total_fuel.sum()"
   ]
  },
  {
   "cell_type": "markdown",
   "metadata": {},
   "source": [
    "Total fuel consumed (megalitres) in Australia"
   ]
  },
  {
   "cell_type": "code",
   "execution_count": 33,
   "metadata": {},
   "outputs": [
    {
     "data": {
      "image/png": "[encoded data removed]",
      "text/plain": [
       "<Figure size 864x288 with 1 Axes>"
      ]
     },
     "metadata": {
      "needs_background": "light"
     },
     "output_type": "display_data"
    }
   ],
   "source": [
    "bar=df4[df4['State']!='Australia'].groupby(['State']).Total_fuel.sum().cumsum()\n",
    "b = bar.plot(figsize=(12, 4), title=\"Cumulative total fuel consumed in Australia\", lw=2, color=('r'), alpha=0.7).tick_params(axis=\"x\", rotation=45)"
   ]
  },
  {
   "cell_type": "markdown",
   "metadata": {},
   "source": [
    "<hr style=\"height:5px;border:none;color:#333;background-color:#333;\" />\n",
    "<h1>5. Results/Insights</h1>\n",
    "\n",
    "In Australia, light commercial vehicles reached the highest total travelled kilometres through years compared with freight use vehicle.\n",
    "\n",
    "According to total travelled kilometres of motor vehicles analysis, passenger vehicles have reached an outstanding record compared to other vehicles types.\n",
    "\n",
    "In comparison with the total fuel consumption of different vehicles in different States, passenger vehicles also have reached a dramatic record. \n",
    "\n",
    "The amount of fuel consumed is also increased according to the total travelled kilometres across states and between different vehicles. However, larger vehicles consumed much more fuel compared to the smaller one.\n",
    "\n",
    "Through years, the total number of motor vehicles NSW is much more than any other State with 5586547.0 in 2018. This was followed by Victoria (4839222.0), Queensland (4043013.0) and Western Australia (2215147.0). Also, the total number of motor vehicles is increased every year across the States\n",
    "\n",
    "Estimation of the total number of vehicles and total kilometres travelled of vehicles in Australia from 2018 to 2024 has been done by the quadratic model. The prediction is depending on the data in the past, so we able to prepare the fuel, and the vehicles in advance.\n",
    "\n",
    "\n",
    "\n",
    "\n",
    "\n",
    "\n",
    "\n"
   ]
  },
  {
   "cell_type": "markdown",
   "metadata": {},
   "source": [
    "<hr style=\"height:5px;border:none;color:#333;background-color:#333;\" />\n",
    "<h1>6. In hindsight...</h1>\n",
    "\n",
    "<ul>\n",
    "    <li> I was a bit struggle in cleaning data when I first got the datasets since I only have been deal with clean datasets before. Also, I have to fix the datatypes depending on my purpose of analysis. For example, States need to be categorical datatype.</li>\n",
    "    <li> In my opinion, times series is a beneficial type of graph that I could make any comparison of States through different years.\n",
    "        When it comes to many categorical values, the bar chart will look confusing. Therefore, the pie chart or time series will improve the presentation of the analysis.\n",
    "            I also have learned how to make prediction the future based the data in the past by using NumPy and Spicy package</li>\n",
    "    <li>  I able to reach the total number of vehicles, total kilometres travelled, and the fuel consumption of vehicles between different States and in the different year. From there, I able to predict the future. And from there, we able to prepare enough vehicles and fuel for every States across Australia.  </li>\n",
    "    <li> The surprising knowledge or insight is that I able to clean data so I could present the analyses. Secondly, the power of time series graph is much stronger than I thought. Lastly, I could try to predict data, although in a straightforward way.</li>\n",
    "    <li> If I have a chance to redo the work, i will try to understand the data better. Also, try to use many other sheets in the excel file. My advice for someone who would want to work on a similar problem is that do as much analysis as he/she could. Try to predict future trend under any topic, and to make the report easy for everyone to follow.</li>\n",
    "    <li> I will try to do more graphs and analysis. Also will go in deeper in prediction analysis</li>\n",
    "\n",
    "</ul>"
   ]
  }
 ],
 "metadata": {
  "kernelspec": {
   "display_name": "Python 3",
   "language": "python",
   "name": "python3"
  },
  "language_info": {
   "codemirror_mode": {
    "name": "ipython",
    "version": 3
   },
   "file_extension": ".py",
   "mimetype": "text/x-python",
   "name": "python",
   "nbconvert_exporter": "python",
   "pygments_lexer": "ipython3",
   "version": "3.7.7"
  }
 },
 "nbformat": 4,
 "nbformat_minor": 4
}
